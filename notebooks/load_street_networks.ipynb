{
 "cells": [
  {
   "cell_type": "code",
   "execution_count": 10,
   "metadata": {},
   "outputs": [],
   "source": [
    "import ray\n",
    "import modules.network_extractor as net_extractor\n",
    "import geopandas as geopd\n",
    "from shapely import ops\n",
    "from osmnx import settings\n",
    "import pyproj\n",
    "from pathlib import Path\n",
    "import networkx as nx\n",
    "import osmnx as ox"
   ]
  },
  {
   "cell_type": "code",
   "execution_count": 11,
   "metadata": {},
   "outputs": [],
   "source": [
    "# Change for your own data base path\n",
    "data_base_path = \"/home/geolab/Desktop/Research/data\"\n",
    "\n",
    "# The extractor instance\n",
    "extractor = net_extractor.NetworkExtractor()\n",
    "extractor.DATA_BASE_PATH = data_base_path\n",
    " \n",
    "# Custom OSMnx settings\n",
    "settings.default_crs = \"epsg:4326\""
   ]
  },
  {
   "cell_type": "code",
   "execution_count": 12,
   "metadata": {},
   "outputs": [],
   "source": [
    "# the city name in lowercase and slug_case where the graphs are located\n",
    "city_name = \"sarajevo\""
   ]
  },
  {
   "cell_type": "code",
   "execution_count": 13,
   "metadata": {},
   "outputs": [],
   "source": [
    "# Load graphs if they are already \n",
    "g_walk = extractor.load_graph(f'{city_name}/graph/walk_{city_name}')\n",
    "g_bike = extractor.load_graph(f'{city_name}/graph/bike_{city_name}')\n",
    "g_drive = extractor.load_graph(f'{city_name}/graph/drive_{city_name}')\n",
    "g_public = extractor.load_graph(f'{city_name}/graph/public_{city_name}')"
   ]
  },
  {
   "cell_type": "code",
   "execution_count": 14,
   "metadata": {},
   "outputs": [
    {
     "name": "stdout",
     "output_type": "stream",
     "text": [
      "Pedestrian graph for sarajevo\n",
      "17167\n",
      "13794\n"
     ]
    }
   ],
   "source": [
    "print(f\"Pedestrian graph for {city_name}\")\n",
    "print(g_walk.number_of_edges())\n",
    "print(g_walk.number_of_nodes())"
   ]
  },
  {
   "cell_type": "code",
   "execution_count": 16,
   "metadata": {},
   "outputs": [
    {
     "data": {
      "text/plain": [
       "{'created_date': '2025-04-30 12:02:44',\n",
       " 'created_with': 'OSMnx 2.0.1',\n",
       " 'crs': 'epsg:4326'}"
      ]
     },
     "execution_count": 16,
     "metadata": {},
     "output_type": "execute_result"
    }
   ],
   "source": [
    "g_walk.graph"
   ]
  },
  {
   "cell_type": "code",
   "execution_count": null,
   "metadata": {},
   "outputs": [],
   "source": []
  }
 ],
 "metadata": {
  "kernelspec": {
   "display_name": ".venv",
   "language": "python",
   "name": "python3"
  },
  "language_info": {
   "codemirror_mode": {
    "name": "ipython",
    "version": 3
   },
   "file_extension": ".py",
   "mimetype": "text/x-python",
   "name": "python",
   "nbconvert_exporter": "python",
   "pygments_lexer": "ipython3",
   "version": "3.11.3"
  }
 },
 "nbformat": 4,
 "nbformat_minor": 2
}
